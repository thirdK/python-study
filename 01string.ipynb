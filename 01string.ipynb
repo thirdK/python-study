{
 "cells": [
  {
   "cell_type": "code",
   "execution_count": 10,
   "id": "267ea258",
   "metadata": {},
   "outputs": [
    {
     "name": "stdout",
     "output_type": "stream",
     "text": [
      "나의 이름은 홍길동입니다. 나이는 30입니다.\n",
      "나는 내년이면 31살이 된다.\n",
      "나의 이름은 홍길동입니다. 나이는 30입니다.\n"
     ]
    }
   ],
   "source": [
    "#f 문자열 포매팅\n",
    "name = '홍길동'\n",
    "age = 30\n",
    "print(f'나의 이름은 {name}입니다. 나이는 {age}입니다.')\n",
    "\n",
    "#내부에서 연산 가능\n",
    "print(f\"나는 내년이면 {age+1}살이 된다.\")\n",
    "\n",
    "#딕셔너리는 다음과 같이 사용한다.\n",
    "#작은 따옴표와 큰따옴표를 잘 사용해야한다.\n",
    "d = {'name1':'홍길동', 'age1' : 30}\n",
    "print(f\"나의 이름은 {d['name1']}입니다. 나이는 {d['age1']}입니다.\")"
   ]
  },
  {
   "cell_type": "code",
   "execution_count": 16,
   "id": "f7d76ba3",
   "metadata": {},
   "outputs": [
    {
     "name": "stdout",
     "output_type": "stream",
     "text": [
      "==center==\n",
      "!!!!!right\n",
      "3.234\n",
      "   3.2    \n"
     ]
    }
   ],
   "source": [
    "#공백 채우기와 정렬 <, ^, >\n",
    "print(f'{\"center\":=^10}')\n",
    "print(f'{\"right\":!>10}')\n",
    "\n",
    "#소수점\n",
    "y = 3.234123\n",
    "print(f'{y:0.3f}')\n",
    "print(f'{y:^10.1f}')"
   ]
  },
  {
   "cell_type": "code",
   "execution_count": 34,
   "id": "c01b8daa",
   "metadata": {},
   "outputs": [
    {
     "name": "stdout",
     "output_type": "stream",
     "text": [
      "3\n",
      "3\n",
      "6\n",
      "q/a/a/w/E/a/t/s/A\n",
      "a,s,d,f,q,w,e,r\n",
      "QAAWEATSA\n",
      "qaaweatsa\n",
      "It might be fun\n",
      "['It', 'would', 'be', 'fun']\n"
     ]
    }
   ],
   "source": [
    "#문자열 관련 함수들\n",
    "\n",
    "a = \"qaawEatsA\"\n",
    "# count 문자열 세기 : 해당 문자열의 수를 반환\n",
    "print(a.count('a'))\n",
    "\n",
    "# find 문자열 찾기 : 처음 만나는 해당문자열의 index 반환, 존재하지 않는 문자열이면 -1반환\n",
    "print(a.find('w'))\n",
    "# index 문자열 찾기 : find와 동일하나 존재하지 않는 문자열이 나오면 오류\n",
    "print(a.index('t'))\n",
    "\n",
    "# join 문자열 삽입 : 문자열 각각의 문자 사이에 삽입 (리스트, 튜플도 사용 가능)\n",
    "print(\"/\".join(a))\n",
    "print(','.join(\"asdfqwer\"))\n",
    "\n",
    "# upper 대문자로 변환\n",
    "print(a.upper())\n",
    "# lower 소문자로 변환\n",
    "print(a.lower())\n",
    "\n",
    "# replace 문자열 바꾸기\n",
    "b = \"It would be fun\"\n",
    "print(b.replace(\"would\", 'might'))\n",
    "\n",
    "#split 문자열 나누기\n",
    "list1 = b.split()\n",
    "print(list1)"
   ]
  }
 ],
 "metadata": {
  "kernelspec": {
   "display_name": "Python 3 (ipykernel)",
   "language": "python",
   "name": "python3"
  },
  "language_info": {
   "codemirror_mode": {
    "name": "ipython",
    "version": 3
   },
   "file_extension": ".py",
   "mimetype": "text/x-python",
   "name": "python",
   "nbconvert_exporter": "python",
   "pygments_lexer": "ipython3",
   "version": "3.9.7"
  }
 },
 "nbformat": 4,
 "nbformat_minor": 5
}
