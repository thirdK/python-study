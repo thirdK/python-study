{
 "cells": [
  {
   "cell_type": "code",
   "execution_count": 2,
   "id": "a4cbc6c7",
   "metadata": {},
   "outputs": [
    {
     "name": "stdout",
     "output_type": "stream",
     "text": [
      "[5, 6, 3, 4]\n",
      "[1, 2, 3, 4, 1, 2, 3, 4, 1, 2, 3, 4]\n",
      "4\n",
      "1hi\n",
      "[1, 2]\n"
     ]
    }
   ],
   "source": [
    "#list\n",
    "a = [5,6,3,4]\n",
    "b = [1,2,3,4]\n",
    "\n",
    "print(a)\n",
    "print(b*3)\n",
    "\n",
    "print(len(b))\n",
    "print(str(1)+'hi')\n",
    "\n",
    "del b[2:]\n",
    "print(b)\n"
   ]
  },
  {
   "cell_type": "code",
   "execution_count": 22,
   "id": "a8779413",
   "metadata": {},
   "outputs": [
    {
     "name": "stdout",
     "output_type": "stream",
     "text": [
      "[5, 2, 1, 3, 4, 6, 7, 7]\n",
      "[1, 2, 3, 4, 5, 6, 7, 7]\n",
      "[7, 7, 6, 5, 4, 3, 2, 1]\n",
      "5\n",
      "[7, 10, 7, 6, 5, 4, 3, 2, 1]\n",
      "[7, 7, 6, 5, 4, 3, 2, 1]\n",
      "1\n",
      "6\n",
      "[7, 7, 5, 4, 3, 2]\n",
      "[7, 7, 5, 4, 3, 2, 8, 10]\n"
     ]
    }
   ],
   "source": [
    "#list관련 함수\n",
    "a = [5,2,1,3,4,6]\n",
    "\n",
    "#요소추가\n",
    "a.append(7)\n",
    "a.append(7)\n",
    "print(a)\n",
    "\n",
    "#정렬\n",
    "a.sort()\n",
    "print(a)\n",
    "#역정렬\n",
    "a.reverse()\n",
    "print(a)\n",
    "\n",
    "# 위치반환\n",
    "print(a.index(3))\n",
    "\n",
    "# 삽입\n",
    "a.insert(1, 10)\n",
    "print(a)\n",
    "\n",
    "#요소제거\n",
    "a.remove(10)\n",
    "print(a)\n",
    "#마지막 요소를 반환하고 제거\n",
    "print(a.pop())\n",
    "#pop()에 인덱스 사용가능\n",
    "print(a.pop(2))\n",
    "\n",
    "#요소의 개수 세기\n",
    "print(a)\n",
    "a.count(7)\n",
    "\n",
    "a+= [8,10]\n",
    "print(a)"
   ]
  }
 ],
 "metadata": {
  "kernelspec": {
   "display_name": "Python 3 (ipykernel)",
   "language": "python",
   "name": "python3"
  },
  "language_info": {
   "codemirror_mode": {
    "name": "ipython",
    "version": 3
   },
   "file_extension": ".py",
   "mimetype": "text/x-python",
   "name": "python",
   "nbconvert_exporter": "python",
   "pygments_lexer": "ipython3",
   "version": "3.9.7"
  }
 },
 "nbformat": 4,
 "nbformat_minor": 5
}
